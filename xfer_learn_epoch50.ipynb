{
  "nbformat": 4,
  "nbformat_minor": 0,
  "metadata": {
    "colab": {
      "name": "xfer_learn_epoch50.ipynb",
      "provenance": [],
      "collapsed_sections": [],
      "authorship_tag": "ABX9TyMB8divlSIqzpFBjmXOW9Ca",
      "include_colab_link": true
    },
    "kernelspec": {
      "name": "python3",
      "display_name": "Python 3"
    },
    "language_info": {
      "name": "python"
    }
  },
  "cells": [
    {
      "cell_type": "markdown",
      "metadata": {
        "id": "view-in-github",
        "colab_type": "text"
      },
      "source": [
        "<a href=\"https://colab.research.google.com/github/mreza81960/mreza81960/blob/main/xfer_learn_epoch50.ipynb\" target=\"_parent\"><img src=\"https://colab.research.google.com/assets/colab-badge.svg\" alt=\"Open In Colab\"/></a>"
      ]
    },
    {
      "cell_type": "markdown",
      "source": [
        "CECS-456 Project - Chess Piece Image Classification\n",
        "\n",
        "Model #3: VGG16 transfer learning\n",
        "\n",
        "Mohamad Rahai"
      ],
      "metadata": {
        "id": "zfJnkmo-xg69"
      }
    },
    {
      "cell_type": "code",
      "metadata": {
        "id": "LI9g9pD604fR"
      },
      "source": [
        "import tensorflow as tf\n",
        "from tensorflow import keras\n",
        "import sklearn\n",
        "import numpy as np\n",
        "import matplotlib.pyplot as plt"
      ],
      "execution_count": null,
      "outputs": []
    },
    {
      "cell_type": "markdown",
      "source": [
        "To make Kaggle dataset available to Colab, 1st the dataset was uploaded to Google Drive and then the drive was mounted to Colab.\n",
        "\n",
        "Dataset path: //content/drive/MyDrive/Chessman-image-dataset/Chess"
      ],
      "metadata": {
        "id": "RSIUeUyHOjNv"
      }
    },
    {
      "cell_type": "code",
      "metadata": {
        "colab": {
          "base_uri": "https://localhost:8080/"
        },
        "id": "yZk9Wh5-lacY",
        "outputId": "94d8a3bc-c2bf-47c0-fdc9-dd8ecf9c172e"
      },
      "source": [
        "from google.colab import drive\n",
        "drive.mount('/content/drive')"
      ],
      "execution_count": null,
      "outputs": [
        {
          "output_type": "stream",
          "name": "stdout",
          "text": [
            "Mounted at /content/drive\n"
          ]
        }
      ]
    },
    {
      "cell_type": "code",
      "metadata": {
        "colab": {
          "base_uri": "https://localhost:8080/"
        },
        "id": "rLtrA0n61LaK",
        "outputId": "e9f5e3b0-e714-41fb-dbe9-64e9d1faefaa"
      },
      "source": [
        "data_dir=\"//content/drive/MyDrive/Chessman-image-dataset/Chess\"\n",
        "data_gen=tf.keras.preprocessing.image.ImageDataGenerator(rescale=1/255.,validation_split=0.2)\n",
        "data_set=data_gen.flow_from_directory(data_dir, target_size=(224,224),\n",
        "                                      color_mode='rgb',\n",
        "                                      class_mode='categorical', seed=42,\n",
        "                                      subset='training')\n",
        "print(type(data_set))\n",
        "validation=data_gen.flow_from_directory(data_dir, target_size=(224,224),\n",
        "                                      color_mode='rgb',\n",
        "                                      class_mode='categorical', seed=42,\n",
        "                                      subset='validation')"
      ],
      "execution_count": null,
      "outputs": [
        {
          "output_type": "stream",
          "name": "stdout",
          "text": [
            "Found 442 images belonging to 6 classes.\n",
            "<class 'keras.preprocessing.image.DirectoryIterator'>\n",
            "Found 109 images belonging to 6 classes.\n"
          ]
        }
      ]
    },
    {
      "cell_type": "code",
      "metadata": {
        "id": "O_wJGN1p4X7O",
        "colab": {
          "base_uri": "https://localhost:8080/"
        },
        "outputId": "ad314fcc-5fa4-4493-93d7-034f6af845ae"
      },
      "source": [
        "vgg_minus_top=tf.keras.applications.VGG16(include_top=False,\n",
        "    weights='imagenet',pooling='avg',input_shape=(224,224,3))\n",
        "vgg_minus_top.trainable=False\n",
        "model=tf.keras.models.Sequential()\n",
        "layer=tf.keras.layers\n",
        "model.add(vgg_minus_top)\n",
        "model.add(layer.Dense(128,activation='relu'))\n",
        "layer.Dropout(0.5)\n",
        "model.add(layer.Dense(64,activation='relu'))\n",
        "layer.Dropout(0.5)\n",
        "model.add(layer.Dense(6,activation='softmax'))\n",
        "model.summary()"
      ],
      "execution_count": null,
      "outputs": [
        {
          "output_type": "stream",
          "name": "stdout",
          "text": [
            "Downloading data from https://storage.googleapis.com/tensorflow/keras-applications/vgg16/vgg16_weights_tf_dim_ordering_tf_kernels_notop.h5\n",
            "58892288/58889256 [==============================] - 0s 0us/step\n",
            "58900480/58889256 [==============================] - 0s 0us/step\n",
            "Model: \"sequential\"\n",
            "_________________________________________________________________\n",
            " Layer (type)                Output Shape              Param #   \n",
            "=================================================================\n",
            " vgg16 (Functional)          (None, 512)               14714688  \n",
            "                                                                 \n",
            " dense (Dense)               (None, 128)               65664     \n",
            "                                                                 \n",
            " dense_1 (Dense)             (None, 64)                8256      \n",
            "                                                                 \n",
            " dense_2 (Dense)             (None, 6)                 390       \n",
            "                                                                 \n",
            "=================================================================\n",
            "Total params: 14,788,998\n",
            "Trainable params: 74,310\n",
            "Non-trainable params: 14,714,688\n",
            "_________________________________________________________________\n"
          ]
        }
      ]
    },
    {
      "cell_type": "code",
      "metadata": {
        "id": "o1ezwA898n-1"
      },
      "source": [
        "model.compile(loss='categorical_crossentropy', optimizer='adam',metrics=['accuracy'])"
      ],
      "execution_count": null,
      "outputs": []
    },
    {
      "cell_type": "code",
      "metadata": {
        "id": "Uh2K9K3H9D7H",
        "colab": {
          "base_uri": "https://localhost:8080/"
        },
        "outputId": "22e67041-b767-4232-a868-31495a4b6116"
      },
      "source": [
        "print (type(data_set))\n",
        "history=model.fit(data_set,batch_size=100,epochs=50, validation_data=validation)"
      ],
      "execution_count": null,
      "outputs": [
        {
          "output_type": "stream",
          "name": "stdout",
          "text": [
            "<class 'keras.preprocessing.image.DirectoryIterator'>\n",
            "Epoch 1/50\n",
            "14/14 [==============================] - 286s 21s/step - loss: 1.7835 - accuracy: 0.2557 - val_loss: 1.6893 - val_accuracy: 0.3486\n",
            "Epoch 2/50\n",
            "14/14 [==============================] - 279s 20s/step - loss: 1.6567 - accuracy: 0.4389 - val_loss: 1.5758 - val_accuracy: 0.5688\n",
            "Epoch 3/50\n",
            "14/14 [==============================] - 278s 20s/step - loss: 1.5392 - accuracy: 0.5339 - val_loss: 1.4366 - val_accuracy: 0.5138\n",
            "Epoch 4/50\n",
            "14/14 [==============================] - 279s 20s/step - loss: 1.4110 - accuracy: 0.5543 - val_loss: 1.3068 - val_accuracy: 0.6055\n",
            "Epoch 5/50\n",
            "14/14 [==============================] - 276s 20s/step - loss: 1.2985 - accuracy: 0.5905 - val_loss: 1.2106 - val_accuracy: 0.5505\n",
            "Epoch 6/50\n",
            "14/14 [==============================] - 278s 20s/step - loss: 1.1869 - accuracy: 0.6199 - val_loss: 1.0927 - val_accuracy: 0.6514\n",
            "Epoch 7/50\n",
            "14/14 [==============================] - 277s 20s/step - loss: 1.1040 - accuracy: 0.6357 - val_loss: 1.0221 - val_accuracy: 0.6697\n",
            "Epoch 8/50\n",
            "14/14 [==============================] - 277s 20s/step - loss: 1.0317 - accuracy: 0.6674 - val_loss: 0.9563 - val_accuracy: 0.7064\n",
            "Epoch 9/50\n",
            "14/14 [==============================] - 276s 20s/step - loss: 0.9300 - accuracy: 0.7172 - val_loss: 0.8733 - val_accuracy: 0.6789\n",
            "Epoch 10/50\n",
            "14/14 [==============================] - 277s 20s/step - loss: 0.8668 - accuracy: 0.7353 - val_loss: 0.8563 - val_accuracy: 0.6697\n",
            "Epoch 11/50\n",
            "14/14 [==============================] - 277s 20s/step - loss: 0.8329 - accuracy: 0.7308 - val_loss: 0.7716 - val_accuracy: 0.7615\n",
            "Epoch 12/50\n",
            "14/14 [==============================] - 277s 20s/step - loss: 0.7919 - accuracy: 0.7195 - val_loss: 0.7472 - val_accuracy: 0.7523\n",
            "Epoch 13/50\n",
            "14/14 [==============================] - 278s 20s/step - loss: 0.7512 - accuracy: 0.7624 - val_loss: 0.7131 - val_accuracy: 0.7523\n",
            "Epoch 14/50\n",
            "14/14 [==============================] - 276s 20s/step - loss: 0.7111 - accuracy: 0.7738 - val_loss: 0.6800 - val_accuracy: 0.7523\n",
            "Epoch 15/50\n",
            "14/14 [==============================] - 276s 20s/step - loss: 0.6398 - accuracy: 0.8009 - val_loss: 0.6225 - val_accuracy: 0.7706\n",
            "Epoch 16/50\n",
            "14/14 [==============================] - 276s 20s/step - loss: 0.6094 - accuracy: 0.8258 - val_loss: 0.6110 - val_accuracy: 0.7798\n",
            "Epoch 17/50\n",
            "14/14 [==============================] - 276s 20s/step - loss: 0.5695 - accuracy: 0.8394 - val_loss: 0.6244 - val_accuracy: 0.8073\n",
            "Epoch 18/50\n",
            "14/14 [==============================] - 275s 20s/step - loss: 0.5631 - accuracy: 0.8326 - val_loss: 0.6139 - val_accuracy: 0.7706\n",
            "Epoch 19/50\n",
            "14/14 [==============================] - 276s 20s/step - loss: 0.5316 - accuracy: 0.8326 - val_loss: 0.5508 - val_accuracy: 0.7890\n",
            "Epoch 20/50\n",
            "14/14 [==============================] - 275s 20s/step - loss: 0.4882 - accuracy: 0.8462 - val_loss: 0.5770 - val_accuracy: 0.7890\n",
            "Epoch 21/50\n",
            "14/14 [==============================] - 301s 22s/step - loss: 0.4569 - accuracy: 0.8756 - val_loss: 0.5468 - val_accuracy: 0.7798\n",
            "Epoch 22/50\n",
            "14/14 [==============================] - 275s 20s/step - loss: 0.4430 - accuracy: 0.8801 - val_loss: 0.4961 - val_accuracy: 0.8440\n",
            "Epoch 23/50\n",
            "14/14 [==============================] - 275s 20s/step - loss: 0.4317 - accuracy: 0.8665 - val_loss: 0.4858 - val_accuracy: 0.8165\n",
            "Epoch 24/50\n",
            "14/14 [==============================] - 275s 20s/step - loss: 0.3913 - accuracy: 0.8982 - val_loss: 0.5032 - val_accuracy: 0.7890\n",
            "Epoch 25/50\n",
            "14/14 [==============================] - 301s 22s/step - loss: 0.3810 - accuracy: 0.9050 - val_loss: 0.4615 - val_accuracy: 0.8349\n",
            "Epoch 26/50\n",
            "14/14 [==============================] - 302s 22s/step - loss: 0.3590 - accuracy: 0.9050 - val_loss: 0.4771 - val_accuracy: 0.8349\n",
            "Epoch 27/50\n",
            "14/14 [==============================] - 276s 20s/step - loss: 0.3324 - accuracy: 0.9208 - val_loss: 0.4412 - val_accuracy: 0.8532\n",
            "Epoch 28/50\n",
            "14/14 [==============================] - 275s 20s/step - loss: 0.3086 - accuracy: 0.9231 - val_loss: 0.4234 - val_accuracy: 0.8440\n",
            "Epoch 29/50\n",
            "14/14 [==============================] - 275s 20s/step - loss: 0.2991 - accuracy: 0.9299 - val_loss: 0.4136 - val_accuracy: 0.8624\n",
            "Epoch 30/50\n",
            "14/14 [==============================] - 301s 22s/step - loss: 0.2997 - accuracy: 0.9276 - val_loss: 0.4222 - val_accuracy: 0.8532\n",
            "Epoch 31/50\n",
            "14/14 [==============================] - 302s 22s/step - loss: 0.2714 - accuracy: 0.9299 - val_loss: 0.4028 - val_accuracy: 0.8349\n",
            "Epoch 32/50\n",
            "14/14 [==============================] - 275s 20s/step - loss: 0.2598 - accuracy: 0.9344 - val_loss: 0.4033 - val_accuracy: 0.8440\n",
            "Epoch 33/50\n",
            "14/14 [==============================] - 274s 20s/step - loss: 0.2548 - accuracy: 0.9276 - val_loss: 0.4231 - val_accuracy: 0.8349\n",
            "Epoch 34/50\n",
            "14/14 [==============================] - 274s 20s/step - loss: 0.2378 - accuracy: 0.9480 - val_loss: 0.4356 - val_accuracy: 0.8257\n",
            "Epoch 35/50\n",
            "14/14 [==============================] - 274s 20s/step - loss: 0.2318 - accuracy: 0.9502 - val_loss: 0.4356 - val_accuracy: 0.8165\n",
            "Epoch 36/50\n",
            "14/14 [==============================] - 274s 20s/step - loss: 0.2131 - accuracy: 0.9548 - val_loss: 0.4024 - val_accuracy: 0.8257\n",
            "Epoch 37/50\n",
            "14/14 [==============================] - 300s 22s/step - loss: 0.1972 - accuracy: 0.9661 - val_loss: 0.4274 - val_accuracy: 0.8440\n",
            "Epoch 38/50\n",
            "14/14 [==============================] - 275s 20s/step - loss: 0.1923 - accuracy: 0.9615 - val_loss: 0.4288 - val_accuracy: 0.8257\n",
            "Epoch 39/50\n",
            "14/14 [==============================] - 301s 22s/step - loss: 0.1805 - accuracy: 0.9683 - val_loss: 0.4547 - val_accuracy: 0.8165\n",
            "Epoch 40/50\n",
            "14/14 [==============================] - 301s 22s/step - loss: 0.1849 - accuracy: 0.9570 - val_loss: 0.4077 - val_accuracy: 0.8165\n",
            "Epoch 41/50\n",
            "14/14 [==============================] - 275s 20s/step - loss: 0.1845 - accuracy: 0.9502 - val_loss: 0.4204 - val_accuracy: 0.8165\n",
            "Epoch 42/50\n",
            "14/14 [==============================] - 274s 20s/step - loss: 0.1806 - accuracy: 0.9615 - val_loss: 0.5162 - val_accuracy: 0.7890\n",
            "Epoch 43/50\n",
            "14/14 [==============================] - 275s 20s/step - loss: 0.1647 - accuracy: 0.9706 - val_loss: 0.4908 - val_accuracy: 0.7982\n",
            "Epoch 44/50\n",
            "14/14 [==============================] - 302s 22s/step - loss: 0.1623 - accuracy: 0.9661 - val_loss: 0.5055 - val_accuracy: 0.8165\n",
            "Epoch 45/50\n",
            "14/14 [==============================] - 302s 22s/step - loss: 0.1452 - accuracy: 0.9638 - val_loss: 0.4893 - val_accuracy: 0.7982\n",
            "Epoch 46/50\n",
            "14/14 [==============================] - 275s 20s/step - loss: 0.1518 - accuracy: 0.9683 - val_loss: 0.4547 - val_accuracy: 0.7982\n",
            "Epoch 47/50\n",
            "14/14 [==============================] - 276s 20s/step - loss: 0.1278 - accuracy: 0.9751 - val_loss: 0.4545 - val_accuracy: 0.8349\n",
            "Epoch 48/50\n",
            "14/14 [==============================] - 279s 20s/step - loss: 0.1212 - accuracy: 0.9864 - val_loss: 0.5395 - val_accuracy: 0.8165\n",
            "Epoch 49/50\n",
            "14/14 [==============================] - 276s 20s/step - loss: 0.1122 - accuracy: 0.9887 - val_loss: 0.4519 - val_accuracy: 0.8349\n",
            "Epoch 50/50\n",
            "14/14 [==============================] - 276s 20s/step - loss: 0.1024 - accuracy: 0.9887 - val_loss: 0.4555 - val_accuracy: 0.8349\n"
          ]
        }
      ]
    },
    {
      "cell_type": "code",
      "source": [
        "plt.plot(history.history['accuracy'])\n",
        "plt.plot(history.history['val_accuracy'])\n",
        "plt.title('model_accuracy')\n",
        "plt.xlabel('epoch')\n",
        "plt.ylabel('accuracy')\n",
        "plt.legend(['train','validation'],loc='upper left')"
      ],
      "metadata": {
        "id": "j0qlWnQqbf1n",
        "colab": {
          "base_uri": "https://localhost:8080/",
          "height": 312
        },
        "outputId": "c26b9b38-bb0f-4060-ed1c-c9a3b3697129"
      },
      "execution_count": null,
      "outputs": [
        {
          "output_type": "execute_result",
          "data": {
            "text/plain": [
              "<matplotlib.legend.Legend at 0x7f16b726ce50>"
            ]
          },
          "metadata": {},
          "execution_count": 8
        },
        {
          "output_type": "display_data",
          "data": {
            "image/png": "[encoded data removed]",
            "text/plain": [
              "<Figure size 432x288 with 1 Axes>"
            ]
          },
          "metadata": {
            "needs_background": "light"
          }
        }
      ]
    },
    {
      "cell_type": "code",
      "source": [
        "drive.flush_and_unmount()"
      ],
      "metadata": {
        "id": "2-lXnc6Dk3kI"
      },
      "execution_count": null,
      "outputs": []
    }
  ]
}