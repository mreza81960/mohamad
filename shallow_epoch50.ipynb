{
  "nbformat": 4,
  "nbformat_minor": 0,
  "metadata": {
    "colab": {
      "name": "shallow_epoch50.ipynb",
      "provenance": [],
      "collapsed_sections": [],
      "authorship_tag": "ABX9TyPD06XgnYylKrLJ3JsJkLG1",
      "include_colab_link": true
    },
    "kernelspec": {
      "name": "python3",
      "display_name": "Python 3"
    },
    "language_info": {
      "name": "python"
    }
  },
  "cells": [
    {
      "cell_type": "markdown",
      "metadata": {
        "id": "view-in-github",
        "colab_type": "text"
      },
      "source": [
        "<a href=\"https://colab.research.google.com/github/mreza81960/mohamad/blob/main/shallow_epoch50.ipynb\" target=\"_parent\"><img src=\"https://colab.research.google.com/assets/colab-badge.svg\" alt=\"Open In Colab\"/></a>"
      ]
    },
    {
      "cell_type": "markdown",
      "source": [
        "CECS-456 Project - Chess Piece Image Classification\n",
        "\n",
        "Model #1: Shallow\n",
        "\n",
        "Mohamad Rahai"
      ],
      "metadata": {
        "id": "ndi2IMSdRACT"
      }
    },
    {
      "cell_type": "code",
      "metadata": {
        "id": "LI9g9pD604fR"
      },
      "source": [
        "import tensorflow as tf\n",
        "from tensorflow import keras\n",
        "import sklearn\n",
        "import numpy as np\n",
        "import matplotlib.pyplot as plt"
      ],
      "execution_count": null,
      "outputs": []
    },
    {
      "cell_type": "markdown",
      "source": [
        "To make Kaggle dataset available to Colab, 1st the dataset was uploaded to Google Drive and then the drive was mounted to Colab.\n",
        "\n",
        "Dataset path: //content/drive/MyDrive/Chessman-image-dataset/Chess"
      ],
      "metadata": {
        "id": "7BuGkADJRp4B"
      }
    },
    {
      "cell_type": "code",
      "metadata": {
        "colab": {
          "base_uri": "https://localhost:8080/"
        },
        "id": "yZk9Wh5-lacY",
        "outputId": "701b9fa5-6c2f-469a-d56f-4ca5cdce5e57"
      },
      "source": [
        "from google.colab import drive\n",
        "drive.mount('/content/drive')"
      ],
      "execution_count": null,
      "outputs": [
        {
          "output_type": "stream",
          "name": "stdout",
          "text": [
            "Mounted at /content/drive\n"
          ]
        }
      ]
    },
    {
      "cell_type": "code",
      "metadata": {
        "colab": {
          "base_uri": "https://localhost:8080/"
        },
        "id": "rLtrA0n61LaK",
        "outputId": "4e09bf19-b8db-4da6-9ab8-68973535d6bd"
      },
      "source": [
        "data_dir=\"//content/drive/MyDrive/Chessman-image-dataset/Chess\"\n",
        "data_gen=tf.keras.preprocessing.image.ImageDataGenerator(rescale=1/255.,validation_split=0.2)\n",
        "data_set=data_gen.flow_from_directory(data_dir, target_size=(28,28),\n",
        "                                      color_mode='grayscale',\n",
        "                                      class_mode='categorical', seed=42,\n",
        "                                      subset='training')\n",
        "print(type(data_set))\n",
        "validation=data_gen.flow_from_directory(data_dir, target_size=(28,28),\n",
        "                                      color_mode='grayscale',\n",
        "                                      class_mode='categorical', seed=42,\n",
        "                                      subset='validation')"
      ],
      "execution_count": null,
      "outputs": [
        {
          "output_type": "stream",
          "name": "stdout",
          "text": [
            "Found 442 images belonging to 6 classes.\n",
            "<class 'keras.preprocessing.image.DirectoryIterator'>\n",
            "Found 109 images belonging to 6 classes.\n"
          ]
        }
      ]
    },
    {
      "cell_type": "code",
      "metadata": {
        "id": "O_wJGN1p4X7O",
        "colab": {
          "base_uri": "https://localhost:8080/"
        },
        "outputId": "73fa254a-b196-47a8-d015-cfe2c9592382"
      },
      "source": [
        "#designing the layers\n",
        "model=tf.keras.models.Sequential()\n",
        "layer=tf.keras.layers\n",
        "model.add(layer.Conv2D(64,(3,3),padding='same',activation='relu', input_shape=(28,28,1)))\n",
        "model.add(layer.MaxPooling2D(pool_size=(2,2),strides=2))\n",
        "model.add(layer.Conv2D(128,(3,3),padding='same',activation='relu'))\n",
        "model.add(layer.Conv2D(128,(3,3),padding='same',activation='relu'))\n",
        "model.add(layer.MaxPooling2D(pool_size=(2,2),strides=2))\n",
        "model.add(layer.Conv2D(256,(3,3),padding='same',activation='relu'))\n",
        "model.add(layer.Conv2D(256,(3,3),padding='same',activation='relu'))\n",
        "model.add(layer.MaxPooling2D(pool_size=(2,2),strides=2))\n",
        "model.add(layer.Flatten())\n",
        "model.add(layer.Dense(128,activation='relu'))\n",
        "layer.Dropout(0.5)\n",
        "model.add(layer.Dense(64,activation='relu'))\n",
        "layer.Dropout(0.5)\n",
        "model.add(layer.Dense(6,activation='softmax'))\n",
        "model.summary()"
      ],
      "execution_count": null,
      "outputs": [
        {
          "output_type": "stream",
          "name": "stdout",
          "text": [
            "Model: \"sequential\"\n",
            "_________________________________________________________________\n",
            " Layer (type)                Output Shape              Param #   \n",
            "=================================================================\n",
            " conv2d (Conv2D)             (None, 28, 28, 64)        640       \n",
            "                                                                 \n",
            " max_pooling2d (MaxPooling2D  (None, 14, 14, 64)       0         \n",
            " )                                                               \n",
            "                                                                 \n",
            " conv2d_1 (Conv2D)           (None, 14, 14, 128)       73856     \n",
            "                                                                 \n",
            " conv2d_2 (Conv2D)           (None, 14, 14, 128)       147584    \n",
            "                                                                 \n",
            " max_pooling2d_1 (MaxPooling  (None, 7, 7, 128)        0         \n",
            " 2D)                                                             \n",
            "                                                                 \n",
            " conv2d_3 (Conv2D)           (None, 7, 7, 256)         295168    \n",
            "                                                                 \n",
            " conv2d_4 (Conv2D)           (None, 7, 7, 256)         590080    \n",
            "                                                                 \n",
            " max_pooling2d_2 (MaxPooling  (None, 3, 3, 256)        0         \n",
            " 2D)                                                             \n",
            "                                                                 \n",
            " flatten (Flatten)           (None, 2304)              0         \n",
            "                                                                 \n",
            " dense (Dense)               (None, 128)               295040    \n",
            "                                                                 \n",
            " dense_1 (Dense)             (None, 64)                8256      \n",
            "                                                                 \n",
            " dense_2 (Dense)             (None, 6)                 390       \n",
            "                                                                 \n",
            "=================================================================\n",
            "Total params: 1,411,014\n",
            "Trainable params: 1,411,014\n",
            "Non-trainable params: 0\n",
            "_________________________________________________________________\n"
          ]
        }
      ]
    },
    {
      "cell_type": "code",
      "metadata": {
        "id": "o1ezwA898n-1"
      },
      "source": [
        "model.compile(loss='categorical_crossentropy',optimizer='adam',metrics=['accuracy'])"
      ],
      "execution_count": null,
      "outputs": []
    },
    {
      "cell_type": "code",
      "metadata": {
        "id": "Uh2K9K3H9D7H",
        "colab": {
          "base_uri": "https://localhost:8080/"
        },
        "outputId": "00a3f7fc-f89d-4f14-848a-110b174aa342"
      },
      "source": [
        "print (type(data_set))\n",
        "history=model.fit(data_set,batch_size=100,epochs=50, validation_data=validation)"
      ],
      "execution_count": null,
      "outputs": [
        {
          "output_type": "stream",
          "name": "stdout",
          "text": [
            "<class 'keras.preprocessing.image.DirectoryIterator'>\n",
            "Epoch 1/50\n",
            "14/14 [==============================] - 85s 6s/step - loss: 1.7926 - accuracy: 0.1855 - val_loss: 1.7829 - val_accuracy: 0.1927\n",
            "Epoch 2/50\n",
            "14/14 [==============================] - 16s 1s/step - loss: 1.7851 - accuracy: 0.1900 - val_loss: 1.7863 - val_accuracy: 0.1927\n",
            "Epoch 3/50\n",
            "14/14 [==============================] - 16s 1s/step - loss: 1.7872 - accuracy: 0.1900 - val_loss: 1.7787 - val_accuracy: 0.1927\n",
            "Epoch 4/50\n",
            "14/14 [==============================] - 16s 1s/step - loss: 1.7814 - accuracy: 0.1900 - val_loss: 1.7742 - val_accuracy: 0.1743\n",
            "Epoch 5/50\n",
            "14/14 [==============================] - 16s 1s/step - loss: 1.7740 - accuracy: 0.2059 - val_loss: 1.7662 - val_accuracy: 0.2385\n",
            "Epoch 6/50\n",
            "14/14 [==============================] - 15s 1s/step - loss: 1.7493 - accuracy: 0.2353 - val_loss: 1.7060 - val_accuracy: 0.2661\n",
            "Epoch 7/50\n",
            "14/14 [==============================] - 16s 1s/step - loss: 1.7195 - accuracy: 0.2670 - val_loss: 1.7641 - val_accuracy: 0.2569\n",
            "Epoch 8/50\n",
            "14/14 [==============================] - 16s 1s/step - loss: 1.7539 - accuracy: 0.2511 - val_loss: 1.6922 - val_accuracy: 0.2752\n",
            "Epoch 9/50\n",
            "14/14 [==============================] - 15s 1s/step - loss: 1.6328 - accuracy: 0.3054 - val_loss: 1.5968 - val_accuracy: 0.3119\n",
            "Epoch 10/50\n",
            "14/14 [==============================] - 16s 1s/step - loss: 1.5647 - accuracy: 0.3507 - val_loss: 1.5656 - val_accuracy: 0.3853\n",
            "Epoch 11/50\n",
            "14/14 [==============================] - 16s 1s/step - loss: 1.5032 - accuracy: 0.3824 - val_loss: 1.5754 - val_accuracy: 0.3028\n",
            "Epoch 12/50\n",
            "14/14 [==============================] - 16s 1s/step - loss: 1.4172 - accuracy: 0.4276 - val_loss: 1.5935 - val_accuracy: 0.3578\n",
            "Epoch 13/50\n",
            "14/14 [==============================] - 16s 1s/step - loss: 1.3101 - accuracy: 0.4751 - val_loss: 1.4896 - val_accuracy: 0.3670\n",
            "Epoch 14/50\n",
            "14/14 [==============================] - 16s 1s/step - loss: 1.2361 - accuracy: 0.4932 - val_loss: 1.4300 - val_accuracy: 0.3853\n",
            "Epoch 15/50\n",
            "14/14 [==============================] - 16s 1s/step - loss: 1.0660 - accuracy: 0.5611 - val_loss: 1.5522 - val_accuracy: 0.3945\n",
            "Epoch 16/50\n",
            "14/14 [==============================] - 16s 1s/step - loss: 0.9456 - accuracy: 0.6199 - val_loss: 1.7450 - val_accuracy: 0.4037\n",
            "Epoch 17/50\n",
            "14/14 [==============================] - 16s 1s/step - loss: 0.8433 - accuracy: 0.6765 - val_loss: 1.9171 - val_accuracy: 0.3578\n",
            "Epoch 18/50\n",
            "14/14 [==============================] - 15s 1s/step - loss: 0.8594 - accuracy: 0.6471 - val_loss: 1.6795 - val_accuracy: 0.4128\n",
            "Epoch 19/50\n",
            "14/14 [==============================] - 16s 1s/step - loss: 0.7015 - accuracy: 0.7285 - val_loss: 1.8373 - val_accuracy: 0.4771\n",
            "Epoch 20/50\n",
            "14/14 [==============================] - 16s 1s/step - loss: 0.6340 - accuracy: 0.7421 - val_loss: 1.8940 - val_accuracy: 0.4128\n",
            "Epoch 21/50\n",
            "14/14 [==============================] - 17s 1s/step - loss: 0.5335 - accuracy: 0.7715 - val_loss: 2.2401 - val_accuracy: 0.4128\n",
            "Epoch 22/50\n",
            "14/14 [==============================] - 16s 1s/step - loss: 0.5310 - accuracy: 0.8009 - val_loss: 2.2354 - val_accuracy: 0.4128\n",
            "Epoch 23/50\n",
            "14/14 [==============================] - 16s 1s/step - loss: 0.3883 - accuracy: 0.8643 - val_loss: 2.6571 - val_accuracy: 0.4128\n",
            "Epoch 24/50\n",
            "14/14 [==============================] - 16s 1s/step - loss: 0.3291 - accuracy: 0.8733 - val_loss: 3.0032 - val_accuracy: 0.4312\n",
            "Epoch 25/50\n",
            "14/14 [==============================] - 16s 1s/step - loss: 0.4350 - accuracy: 0.8326 - val_loss: 2.0147 - val_accuracy: 0.4220\n",
            "Epoch 26/50\n",
            "14/14 [==============================] - 16s 1s/step - loss: 0.3562 - accuracy: 0.8710 - val_loss: 3.0867 - val_accuracy: 0.4128\n",
            "Epoch 27/50\n",
            "14/14 [==============================] - 16s 1s/step - loss: 0.3348 - accuracy: 0.8778 - val_loss: 2.5360 - val_accuracy: 0.4771\n",
            "Epoch 28/50\n",
            "14/14 [==============================] - 16s 1s/step - loss: 0.4108 - accuracy: 0.8733 - val_loss: 2.7556 - val_accuracy: 0.4679\n",
            "Epoch 29/50\n",
            "14/14 [==============================] - 15s 1s/step - loss: 0.3949 - accuracy: 0.8529 - val_loss: 2.4890 - val_accuracy: 0.4312\n",
            "Epoch 30/50\n",
            "14/14 [==============================] - 15s 1s/step - loss: 0.2837 - accuracy: 0.9140 - val_loss: 3.7033 - val_accuracy: 0.3853\n",
            "Epoch 31/50\n",
            "14/14 [==============================] - 16s 1s/step - loss: 0.1956 - accuracy: 0.9321 - val_loss: 3.5903 - val_accuracy: 0.4495\n",
            "Epoch 32/50\n",
            "14/14 [==============================] - 16s 1s/step - loss: 0.1364 - accuracy: 0.9389 - val_loss: 4.1744 - val_accuracy: 0.3945\n",
            "Epoch 33/50\n",
            "14/14 [==============================] - 16s 1s/step - loss: 0.1260 - accuracy: 0.9570 - val_loss: 4.3205 - val_accuracy: 0.4037\n",
            "Epoch 34/50\n",
            "14/14 [==============================] - 16s 1s/step - loss: 0.1065 - accuracy: 0.9593 - val_loss: 4.8445 - val_accuracy: 0.4128\n",
            "Epoch 35/50\n",
            "14/14 [==============================] - 16s 1s/step - loss: 0.1284 - accuracy: 0.9570 - val_loss: 4.4967 - val_accuracy: 0.4220\n",
            "Epoch 36/50\n",
            "14/14 [==============================] - 16s 1s/step - loss: 0.2500 - accuracy: 0.9118 - val_loss: 4.5341 - val_accuracy: 0.4220\n",
            "Epoch 37/50\n",
            "14/14 [==============================] - 15s 1s/step - loss: 0.2692 - accuracy: 0.9027 - val_loss: 3.4274 - val_accuracy: 0.4312\n",
            "Epoch 38/50\n",
            "14/14 [==============================] - 16s 1s/step - loss: 0.1675 - accuracy: 0.9502 - val_loss: 4.2607 - val_accuracy: 0.3853\n",
            "Epoch 39/50\n",
            "14/14 [==============================] - 16s 1s/step - loss: 0.1284 - accuracy: 0.9525 - val_loss: 3.7756 - val_accuracy: 0.5138\n",
            "Epoch 40/50\n",
            "14/14 [==============================] - 16s 1s/step - loss: 0.1138 - accuracy: 0.9593 - val_loss: 4.6706 - val_accuracy: 0.4495\n",
            "Epoch 41/50\n",
            "14/14 [==============================] - 16s 1s/step - loss: 0.1081 - accuracy: 0.9683 - val_loss: 4.2838 - val_accuracy: 0.4404\n",
            "Epoch 42/50\n",
            "14/14 [==============================] - 16s 1s/step - loss: 0.0746 - accuracy: 0.9751 - val_loss: 4.6562 - val_accuracy: 0.4312\n",
            "Epoch 43/50\n",
            "14/14 [==============================] - 16s 1s/step - loss: 0.0579 - accuracy: 0.9796 - val_loss: 4.9951 - val_accuracy: 0.4495\n",
            "Epoch 44/50\n",
            "14/14 [==============================] - 16s 1s/step - loss: 0.0384 - accuracy: 0.9864 - val_loss: 5.5671 - val_accuracy: 0.4312\n",
            "Epoch 45/50\n",
            "14/14 [==============================] - 16s 1s/step - loss: 0.0299 - accuracy: 0.9864 - val_loss: 5.8067 - val_accuracy: 0.4312\n",
            "Epoch 46/50\n",
            "14/14 [==============================] - 15s 1s/step - loss: 0.0151 - accuracy: 0.9977 - val_loss: 5.9924 - val_accuracy: 0.4404\n",
            "Epoch 47/50\n",
            "14/14 [==============================] - 16s 1s/step - loss: 0.0104 - accuracy: 0.9977 - val_loss: 6.2866 - val_accuracy: 0.4495\n",
            "Epoch 48/50\n",
            "14/14 [==============================] - 16s 1s/step - loss: 0.0107 - accuracy: 0.9977 - val_loss: 6.4888 - val_accuracy: 0.4312\n",
            "Epoch 49/50\n",
            "14/14 [==============================] - 16s 1s/step - loss: 0.0103 - accuracy: 0.9977 - val_loss: 6.8279 - val_accuracy: 0.4587\n",
            "Epoch 50/50\n",
            "14/14 [==============================] - 16s 1s/step - loss: 0.0066 - accuracy: 0.9977 - val_loss: 6.9028 - val_accuracy: 0.4495\n"
          ]
        }
      ]
    },
    {
      "cell_type": "code",
      "source": [
        "plt.plot(history.history['accuracy'])\n",
        "plt.plot(history.history['val_accuracy'])\n",
        "plt.title('model_accuracy')\n",
        "plt.xlabel('epoch')\n",
        "plt.ylabel('accuracy')\n",
        "plt.legend(['train','validation'],loc='upper left')"
      ],
      "metadata": {
        "colab": {
          "base_uri": "https://localhost:8080/",
          "height": 312
        },
        "id": "j0qlWnQqbf1n",
        "outputId": "181cf717-4793-4e53-9fcd-a9d75e939529"
      },
      "execution_count": null,
      "outputs": [
        {
          "output_type": "execute_result",
          "data": {
            "text/plain": [
              "<matplotlib.legend.Legend at 0x7fdda5139ed0>"
            ]
          },
          "metadata": {},
          "execution_count": 8
        },
        {
          "output_type": "display_data",
          "data": {
            "image/png": "[encoded data removed]",
            "text/plain": [
              "<Figure size 432x288 with 1 Axes>"
            ]
          },
          "metadata": {
            "needs_background": "light"
          }
        }
      ]
    },
    {
      "cell_type": "code",
      "source": [
        "drive.flush_and_unmount()"
      ],
      "metadata": {
        "id": "2-lXnc6Dk3kI"
      },
      "execution_count": null,
      "outputs": []
    }
  ]
}