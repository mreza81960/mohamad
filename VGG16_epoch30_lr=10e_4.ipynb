{
  "cells": [
    {
      "cell_type": "markdown",
      "metadata": {
        "id": "view-in-github",
        "colab_type": "text"
      },
      "source": [
        "<a href=\"https://colab.research.google.com/github/mreza81960/mohamad/blob/main/VGG16_epoch30_lr%3D10e_4.ipynb\" target=\"_parent\"><img src=\"https://colab.research.google.com/assets/colab-badge.svg\" alt=\"Open In Colab\"/></a>"
      ]
    },
    {
      "cell_type": "markdown",
      "metadata": {
        "id": "zB76XgoXMNfu"
      },
      "source": [
        "CECS 456 project - Classification of chess piece images\n",
        "\n",
        "Model 2a: VGG16-lr=.0001 \n",
        "\n",
        "Mohamad Rahai"
      ]
    },
    {
      "cell_type": "code",
      "execution_count": null,
      "metadata": {
        "id": "LI9g9pD604fR"
      },
      "outputs": [],
      "source": [
        "import tensorflow as tf\n",
        "from tensorflow import keras\n",
        "import sklearn\n",
        "import numpy as np\n",
        "import matplotlib.pyplot as plt"
      ]
    },
    {
      "cell_type": "markdown",
      "metadata": {
        "id": "D9TKyzchOTat"
      },
      "source": [
        "To make Kaggle dataset available to Colab, 1st the dataset was uploaded to Google Drive and then the drive was mounted to Colab.\n",
        "\n",
        "Dataset path: //content/drive/MyDrive/Chessman-image-dataset/Chess"
      ]
    },
    {
      "cell_type": "code",
      "execution_count": null,
      "metadata": {
        "colab": {
          "base_uri": "https://localhost:8080/"
        },
        "id": "yZk9Wh5-lacY",
        "outputId": "3a48f505-0e88-48e3-bf90-1852cfab98cc"
      },
      "outputs": [
        {
          "output_type": "stream",
          "name": "stdout",
          "text": [
            "Mounted at /content/drive\n"
          ]
        }
      ],
      "source": [
        "from google.colab import drive\n",
        "drive.mount('/content/drive')"
      ]
    },
    {
      "cell_type": "code",
      "execution_count": null,
      "metadata": {
        "colab": {
          "base_uri": "https://localhost:8080/"
        },
        "id": "rLtrA0n61LaK",
        "outputId": "d681a90e-450d-4e81-ea39-92c542bd3635"
      },
      "outputs": [
        {
          "output_type": "stream",
          "name": "stdout",
          "text": [
            "Found 442 images belonging to 6 classes.\n",
            "<class 'keras.preprocessing.image.DirectoryIterator'>\n",
            "Found 109 images belonging to 6 classes.\n"
          ]
        }
      ],
      "source": [
        "data_dir=\"//content/drive/MyDrive/Chessman-image-dataset/Chess\"\n",
        "data_gen=tf.keras.preprocessing.image.ImageDataGenerator(rescale=1/255.,validation_split=0.2)\n",
        "data_set=data_gen.flow_from_directory(data_dir, target_size=(224,224),\n",
        "                                      color_mode='grayscale',\n",
        "                                      class_mode='categorical', seed=42,\n",
        "                                      subset='training')\n",
        "print(type(data_set))\n",
        "validation=data_gen.flow_from_directory(data_dir, target_size=(224,224),\n",
        "                                      color_mode='grayscale',\n",
        "                                      class_mode='categorical', seed=42,\n",
        "                                      subset='validation')"
      ]
    },
    {
      "cell_type": "code",
      "execution_count": null,
      "metadata": {
        "colab": {
          "base_uri": "https://localhost:8080/"
        },
        "id": "O_wJGN1p4X7O",
        "outputId": "f351f790-849e-4aea-8774-7028be568981"
      },
      "outputs": [
        {
          "output_type": "stream",
          "name": "stdout",
          "text": [
            "Model: \"sequential\"\n",
            "_________________________________________________________________\n",
            " Layer (type)                Output Shape              Param #   \n",
            "=================================================================\n",
            " conv2d (Conv2D)             (None, 224, 224, 64)      640       \n",
            "                                                                 \n",
            " conv2d_1 (Conv2D)           (None, 224, 224, 64)      36928     \n",
            "                                                                 \n",
            " average_pooling2d (AverageP  (None, 112, 112, 64)     0         \n",
            " ooling2D)                                                       \n",
            "                                                                 \n",
            " conv2d_2 (Conv2D)           (None, 112, 112, 128)     73856     \n",
            "                                                                 \n",
            " conv2d_3 (Conv2D)           (None, 112, 112, 128)     147584    \n",
            "                                                                 \n",
            " average_pooling2d_1 (Averag  (None, 56, 56, 128)      0         \n",
            " ePooling2D)                                                     \n",
            "                                                                 \n",
            " conv2d_4 (Conv2D)           (None, 56, 56, 256)       295168    \n",
            "                                                                 \n",
            " conv2d_5 (Conv2D)           (None, 56, 56, 256)       590080    \n",
            "                                                                 \n",
            " conv2d_6 (Conv2D)           (None, 56, 56, 256)       590080    \n",
            "                                                                 \n",
            " average_pooling2d_2 (Averag  (None, 28, 28, 256)      0         \n",
            " ePooling2D)                                                     \n",
            "                                                                 \n",
            " conv2d_7 (Conv2D)           (None, 28, 28, 512)       1180160   \n",
            "                                                                 \n",
            " conv2d_8 (Conv2D)           (None, 28, 28, 512)       2359808   \n",
            "                                                                 \n",
            " conv2d_9 (Conv2D)           (None, 28, 28, 512)       2359808   \n",
            "                                                                 \n",
            " average_pooling2d_3 (Averag  (None, 14, 14, 512)      0         \n",
            " ePooling2D)                                                     \n",
            "                                                                 \n",
            " conv2d_10 (Conv2D)          (None, 14, 14, 512)       2359808   \n",
            "                                                                 \n",
            " conv2d_11 (Conv2D)          (None, 14, 14, 512)       2359808   \n",
            "                                                                 \n",
            " conv2d_12 (Conv2D)          (None, 14, 14, 512)       2359808   \n",
            "                                                                 \n",
            " average_pooling2d_4 (Averag  (None, 7, 7, 512)        0         \n",
            " ePooling2D)                                                     \n",
            "                                                                 \n",
            " flatten (Flatten)           (None, 25088)             0         \n",
            "                                                                 \n",
            " dense (Dense)               (None, 128)               3211392   \n",
            "                                                                 \n",
            " dense_1 (Dense)             (None, 64)                8256      \n",
            "                                                                 \n",
            " dense_2 (Dense)             (None, 6)                 390       \n",
            "                                                                 \n",
            "=================================================================\n",
            "Total params: 17,933,574\n",
            "Trainable params: 17,933,574\n",
            "Non-trainable params: 0\n",
            "_________________________________________________________________\n"
          ]
        }
      ],
      "source": [
        "model=tf.keras.models.Sequential()\n",
        "layer=tf.keras.layers\n",
        "model.add(layer.Conv2D(64,(3,3),padding='same',activation='relu', input_shape=(224,224,1)))\n",
        "model.add(layer.Conv2D(64,(3,3),padding='same',activation='relu'))\n",
        "model.add(layer.AveragePooling2D(pool_size=(2,2),strides=2,padding='valid'))\n",
        "model.add(layer.Conv2D(128,(3,3),padding='same',activation='relu'))\n",
        "model.add(layer.Conv2D(128,(3,3),padding='same',activation='relu'))\n",
        "model.add(layer.AveragePooling2D(pool_size=(2,2),strides=2,padding='valid'))\n",
        "model.add(layer.Conv2D(256,(3,3),padding='same',activation='relu'))\n",
        "model.add(layer.Conv2D(256,(3,3),padding='same',activation='relu'))\n",
        "model.add(layer.Conv2D(256,(3,3),padding='same',activation='relu'))\n",
        "model.add(layer.AveragePooling2D(pool_size=(2,2),strides=2,padding='valid'))\n",
        "model.add(layer.Conv2D(512,(3,3),padding='same',activation='relu'))\n",
        "model.add(layer.Conv2D(512,(3,3),padding='same',activation='relu'))\n",
        "model.add(layer.Conv2D(512,(3,3),padding='same',activation='relu'))\n",
        "model.add(layer.AveragePooling2D(pool_size=(2,2),strides=2,padding='valid'))\n",
        "model.add(layer.Conv2D(512,(3,3),padding='same',activation='relu'))\n",
        "model.add(layer.Conv2D(512,(3,3),padding='same',activation='relu'))\n",
        "model.add(layer.Conv2D(512,(3,3),padding='same',activation='relu'))\n",
        "model.add(layer.AveragePooling2D(pool_size=(2,2),strides=2,padding='valid'))\n",
        "model.add(layer.Flatten())\n",
        "model.add(layer.Dense(128,activation='relu'))\n",
        "layer.Dropout(0.5)\n",
        "model.add(layer.Dense(64,activation='relu'))\n",
        "layer.Dropout(0.5)\n",
        "model.add(layer.Dense(6,activation='softmax'))\n",
        "model.summary()"
      ]
    },
    {
      "cell_type": "code",
      "execution_count": null,
      "metadata": {
        "id": "o1ezwA898n-1"
      },
      "outputs": [],
      "source": [
        "model.compile(loss='categorical_crossentropy', optimizer=keras.optimizers.Adam(learning_rate=0.0001),metrics=['accuracy'])"
      ]
    },
    {
      "cell_type": "code",
      "execution_count": null,
      "metadata": {
        "colab": {
          "base_uri": "https://localhost:8080/"
        },
        "id": "Uh2K9K3H9D7H",
        "outputId": "c20c30fa-c851-4c1c-85b2-1afbce2dba19"
      },
      "outputs": [
        {
          "output_type": "stream",
          "name": "stdout",
          "text": [
            "<class 'keras.preprocessing.image.DirectoryIterator'>\n",
            "Epoch 1/30\n",
            "14/14 [==============================] - 884s 63s/step - loss: 1.7917 - accuracy: 0.1516 - val_loss: 1.7874 - val_accuracy: 0.1927\n",
            "Epoch 2/30\n",
            "14/14 [==============================] - 863s 62s/step - loss: 1.7890 - accuracy: 0.1878 - val_loss: 1.7854 - val_accuracy: 0.1927\n",
            "Epoch 3/30\n",
            "14/14 [==============================] - 862s 62s/step - loss: 1.7844 - accuracy: 0.1787 - val_loss: 1.7779 - val_accuracy: 0.2110\n",
            "Epoch 4/30\n",
            "14/14 [==============================] - 867s 62s/step - loss: 1.7903 - accuracy: 0.1991 - val_loss: 1.7855 - val_accuracy: 0.2385\n",
            "Epoch 5/30\n",
            "14/14 [==============================] - 868s 62s/step - loss: 1.7857 - accuracy: 0.1968 - val_loss: 1.7782 - val_accuracy: 0.2477\n",
            "Epoch 6/30\n",
            "14/14 [==============================] - 876s 63s/step - loss: 1.7827 - accuracy: 0.1991 - val_loss: 1.7850 - val_accuracy: 0.1927\n",
            "Epoch 7/30\n",
            "14/14 [==============================] - 856s 61s/step - loss: 1.7783 - accuracy: 0.2149 - val_loss: 1.7958 - val_accuracy: 0.2294\n",
            "Epoch 8/30\n",
            "14/14 [==============================] - 855s 61s/step - loss: 1.7848 - accuracy: 0.2353 - val_loss: 1.7890 - val_accuracy: 0.1927\n",
            "Epoch 9/30\n",
            "14/14 [==============================] - 856s 61s/step - loss: 1.7786 - accuracy: 0.2081 - val_loss: 1.7770 - val_accuracy: 0.1743\n",
            "Epoch 10/30\n",
            "14/14 [==============================] - 853s 61s/step - loss: 1.7629 - accuracy: 0.2398 - val_loss: 1.7814 - val_accuracy: 0.1927\n",
            "Epoch 11/30\n",
            "14/14 [==============================] - 855s 61s/step - loss: 1.7711 - accuracy: 0.2240 - val_loss: 1.7808 - val_accuracy: 0.2018\n",
            "Epoch 12/30\n",
            "14/14 [==============================] - 857s 61s/step - loss: 1.7585 - accuracy: 0.2579 - val_loss: 1.7887 - val_accuracy: 0.2018\n",
            "Epoch 13/30\n",
            "14/14 [==============================] - 857s 61s/step - loss: 1.7356 - accuracy: 0.2489 - val_loss: 1.7685 - val_accuracy: 0.2569\n",
            "Epoch 14/30\n",
            "14/14 [==============================] - 862s 62s/step - loss: 1.6937 - accuracy: 0.3054 - val_loss: 1.7755 - val_accuracy: 0.2569\n",
            "Epoch 15/30\n",
            "14/14 [==============================] - 870s 62s/step - loss: 1.6487 - accuracy: 0.3258 - val_loss: 1.8468 - val_accuracy: 0.2661\n",
            "Epoch 16/30\n",
            "14/14 [==============================] - 852s 61s/step - loss: 1.6317 - accuracy: 0.3348 - val_loss: 1.7175 - val_accuracy: 0.3394\n",
            "Epoch 17/30\n",
            "14/14 [==============================] - 855s 62s/step - loss: 1.5767 - accuracy: 0.3937 - val_loss: 1.7366 - val_accuracy: 0.2661\n",
            "Epoch 18/30\n",
            "14/14 [==============================] - 857s 61s/step - loss: 1.4924 - accuracy: 0.4118 - val_loss: 1.7260 - val_accuracy: 0.3578\n",
            "Epoch 19/30\n",
            "14/14 [==============================] - 854s 61s/step - loss: 1.4088 - accuracy: 0.4615 - val_loss: 1.8287 - val_accuracy: 0.2936\n",
            "Epoch 20/30\n",
            "14/14 [==============================] - 859s 62s/step - loss: 1.3273 - accuracy: 0.4955 - val_loss: 2.0036 - val_accuracy: 0.3303\n",
            "Epoch 21/30\n",
            "14/14 [==============================] - 856s 61s/step - loss: 1.2057 - accuracy: 0.5204 - val_loss: 1.7539 - val_accuracy: 0.3670\n",
            "Epoch 22/30\n",
            "14/14 [==============================] - 861s 62s/step - loss: 1.1673 - accuracy: 0.5588 - val_loss: 1.7108 - val_accuracy: 0.3303\n",
            "Epoch 23/30\n",
            "14/14 [==============================] - 860s 63s/step - loss: 1.0751 - accuracy: 0.5905 - val_loss: 1.7275 - val_accuracy: 0.3486\n",
            "Epoch 24/30\n",
            "14/14 [==============================] - 856s 61s/step - loss: 0.9876 - accuracy: 0.5928 - val_loss: 1.8307 - val_accuracy: 0.4495\n",
            "Epoch 25/30\n",
            "14/14 [==============================] - 862s 62s/step - loss: 0.8430 - accuracy: 0.6855 - val_loss: 2.0152 - val_accuracy: 0.5046\n",
            "Epoch 26/30\n",
            "14/14 [==============================] - 861s 62s/step - loss: 0.7191 - accuracy: 0.7398 - val_loss: 1.8285 - val_accuracy: 0.4679\n",
            "Epoch 27/30\n",
            "14/14 [==============================] - 863s 62s/step - loss: 0.6555 - accuracy: 0.7353 - val_loss: 2.1201 - val_accuracy: 0.4771\n",
            "Epoch 28/30\n",
            "14/14 [==============================] - 863s 62s/step - loss: 0.5295 - accuracy: 0.7941 - val_loss: 3.1479 - val_accuracy: 0.4862\n",
            "Epoch 29/30\n",
            "14/14 [==============================] - 867s 62s/step - loss: 0.4984 - accuracy: 0.8213 - val_loss: 2.3343 - val_accuracy: 0.4495\n",
            "Epoch 30/30\n",
            "14/14 [==============================] - 869s 62s/step - loss: 0.5156 - accuracy: 0.8054 - val_loss: 1.7869 - val_accuracy: 0.5138\n"
          ]
        }
      ],
      "source": [
        "print (type(data_set))\n",
        "history=model.fit(data_set,batch_size=100,epochs=30, validation_data=validation)"
      ]
    },
    {
      "cell_type": "code",
      "execution_count": null,
      "metadata": {
        "id": "j0qlWnQqbf1n",
        "colab": {
          "base_uri": "https://localhost:8080/",
          "height": 312
        },
        "outputId": "c722e626-3424-4074-fde7-cf9c60407861"
      },
      "outputs": [
        {
          "output_type": "execute_result",
          "data": {
            "text/plain": [
              "<matplotlib.legend.Legend at 0x7fe1e6780410>"
            ]
          },
          "metadata": {},
          "execution_count": 9
        },
        {
          "output_type": "display_data",
          "data": {
            "image/png": "[encoded data removed]",
            "text/plain": [
              "<Figure size 432x288 with 1 Axes>"
            ]
          },
          "metadata": {
            "needs_background": "light"
          }
        }
      ],
      "source": [
        "plt.plot(history.history['accuracy'])\n",
        "plt.plot(history.history['val_accuracy'])\n",
        "plt.title('model_accuracy')\n",
        "plt.xlabel('epoch')\n",
        "plt.ylabel('accuracy')\n",
        "plt.legend(['train','validation'],loc='upper left')"
      ]
    },
    {
      "cell_type": "code",
      "execution_count": null,
      "metadata": {
        "id": "2-lXnc6Dk3kI"
      },
      "outputs": [],
      "source": [
        "drive.flush_and_unmount()"
      ]
    }
  ],
  "metadata": {
    "colab": {
      "collapsed_sections": [],
      "name": "VGG16_epoch30_lr=10e-4.ipynb",
      "provenance": [],
      "authorship_tag": "ABX9TyPgtNcE8m89tMw4eIocXPVF",
      "include_colab_link": true
    },
    "kernelspec": {
      "display_name": "Python 3",
      "name": "python3"
    },
    "language_info": {
      "name": "python"
    }
  },
  "nbformat": 4,
  "nbformat_minor": 0
}