{
  "cells": [
    {
      "cell_type": "markdown",
      "metadata": {
        "id": "view-in-github",
        "colab_type": "text"
      },
      "source": [
        "<a href=\"https://colab.research.google.com/github/mreza81960/mohamad/blob/main/VGG16_epoch30.ipynb\" target=\"_parent\"><img src=\"https://colab.research.google.com/assets/colab-badge.svg\" alt=\"Open In Colab\"/></a>"
      ]
    },
    {
      "cell_type": "markdown",
      "metadata": {
        "id": "zB76XgoXMNfu"
      },
      "source": [
        "CECS 456 project - Classification of chess piece images\n",
        "\n",
        "Model 2: VGG16 \n",
        "\n",
        "Mohamad Rahai"
      ]
    },
    {
      "cell_type": "code",
      "execution_count": null,
      "metadata": {
        "id": "LI9g9pD604fR"
      },
      "outputs": [],
      "source": [
        "import tensorflow as tf\n",
        "from tensorflow import keras\n",
        "import sklearn\n",
        "import numpy as np\n",
        "import matplotlib.pyplot as plt"
      ]
    },
    {
      "cell_type": "markdown",
      "metadata": {
        "id": "D9TKyzchOTat"
      },
      "source": [
        "To make Kaggle dataset available to Colab, 1st the dataset was uploaded to Google Drive and then the drive was mounted to Colab.\n",
        "\n",
        "Dataset path: //content/drive/MyDrive/Chessman-image-dataset/Chess"
      ]
    },
    {
      "cell_type": "code",
      "execution_count": null,
      "metadata": {
        "colab": {
          "base_uri": "https://localhost:8080/"
        },
        "id": "yZk9Wh5-lacY",
        "outputId": "3babcc35-9b23-44e5-c2b1-13cdc5b5bfe4"
      },
      "outputs": [
        {
          "name": "stdout",
          "output_type": "stream",
          "text": [
            "Mounted at /content/drive\n"
          ]
        }
      ],
      "source": [
        "from google.colab import drive\n",
        "drive.mount('/content/drive')"
      ]
    },
    {
      "cell_type": "code",
      "execution_count": null,
      "metadata": {
        "colab": {
          "base_uri": "https://localhost:8080/"
        },
        "id": "rLtrA0n61LaK",
        "outputId": "e3d0a842-d970-4a07-ffe9-963aeb05f935"
      },
      "outputs": [
        {
          "name": "stdout",
          "output_type": "stream",
          "text": [
            "Found 442 images belonging to 6 classes.\n",
            "<class 'keras.preprocessing.image.DirectoryIterator'>\n",
            "Found 109 images belonging to 6 classes.\n"
          ]
        }
      ],
      "source": [
        "data_dir=\"//content/drive/MyDrive/Chessman-image-dataset/Chess\"\n",
        "data_gen=tf.keras.preprocessing.image.ImageDataGenerator(rescale=1/255.,validation_split=0.2)\n",
        "data_set=data_gen.flow_from_directory(data_dir, target_size=(224,224),\n",
        "                                      color_mode='grayscale',\n",
        "                                      class_mode='categorical', seed=42,\n",
        "                                      subset='training')\n",
        "print(type(data_set))\n",
        "validation=data_gen.flow_from_directory(data_dir, target_size=(224,224),\n",
        "                                      color_mode='grayscale',\n",
        "                                      class_mode='categorical', seed=42,\n",
        "                                      subset='validation')"
      ]
    },
    {
      "cell_type": "code",
      "execution_count": null,
      "metadata": {
        "colab": {
          "base_uri": "https://localhost:8080/"
        },
        "id": "O_wJGN1p4X7O",
        "outputId": "284f59fb-70c9-421d-ffda-3bf950d595f0"
      },
      "outputs": [
        {
          "name": "stdout",
          "output_type": "stream",
          "text": [
            "Model: \"sequential_1\"\n",
            "_________________________________________________________________\n",
            " Layer (type)                Output Shape              Param #   \n",
            "=================================================================\n",
            " conv2d_13 (Conv2D)          (None, 224, 224, 64)      640       \n",
            "                                                                 \n",
            " conv2d_14 (Conv2D)          (None, 224, 224, 64)      36928     \n",
            "                                                                 \n",
            " average_pooling2d_5 (Averag  (None, 112, 112, 64)     0         \n",
            " ePooling2D)                                                     \n",
            "                                                                 \n",
            " conv2d_15 (Conv2D)          (None, 112, 112, 128)     73856     \n",
            "                                                                 \n",
            " conv2d_16 (Conv2D)          (None, 112, 112, 128)     147584    \n",
            "                                                                 \n",
            " average_pooling2d_6 (Averag  (None, 56, 56, 128)      0         \n",
            " ePooling2D)                                                     \n",
            "                                                                 \n",
            " conv2d_17 (Conv2D)          (None, 56, 56, 256)       295168    \n",
            "                                                                 \n",
            " conv2d_18 (Conv2D)          (None, 56, 56, 256)       590080    \n",
            "                                                                 \n",
            " conv2d_19 (Conv2D)          (None, 56, 56, 256)       590080    \n",
            "                                                                 \n",
            " average_pooling2d_7 (Averag  (None, 28, 28, 256)      0         \n",
            " ePooling2D)                                                     \n",
            "                                                                 \n",
            " conv2d_20 (Conv2D)          (None, 28, 28, 512)       1180160   \n",
            "                                                                 \n",
            " conv2d_21 (Conv2D)          (None, 28, 28, 512)       2359808   \n",
            "                                                                 \n",
            " conv2d_22 (Conv2D)          (None, 28, 28, 512)       2359808   \n",
            "                                                                 \n",
            " average_pooling2d_8 (Averag  (None, 14, 14, 512)      0         \n",
            " ePooling2D)                                                     \n",
            "                                                                 \n",
            " conv2d_23 (Conv2D)          (None, 14, 14, 512)       2359808   \n",
            "                                                                 \n",
            " conv2d_24 (Conv2D)          (None, 14, 14, 512)       2359808   \n",
            "                                                                 \n",
            " conv2d_25 (Conv2D)          (None, 14, 14, 512)       2359808   \n",
            "                                                                 \n",
            " average_pooling2d_9 (Averag  (None, 7, 7, 512)        0         \n",
            " ePooling2D)                                                     \n",
            "                                                                 \n",
            " flatten_1 (Flatten)         (None, 25088)             0         \n",
            "                                                                 \n",
            " dense_3 (Dense)             (None, 128)               3211392   \n",
            "                                                                 \n",
            " dense_4 (Dense)             (None, 64)                8256      \n",
            "                                                                 \n",
            " dense_5 (Dense)             (None, 6)                 390       \n",
            "                                                                 \n",
            "=================================================================\n",
            "Total params: 17,933,574\n",
            "Trainable params: 17,933,574\n",
            "Non-trainable params: 0\n",
            "_________________________________________________________________\n"
          ]
        }
      ],
      "source": [
        "model=tf.keras.models.Sequential()\n",
        "layer=tf.keras.layers\n",
        "model.add(layer.Conv2D(64,(3,3),padding='same',activation='relu', input_shape=(224,224,1)))\n",
        "model.add(layer.Conv2D(64,(3,3),padding='same',activation='relu'))\n",
        "model.add(layer.AveragePooling2D(pool_size=(2,2),strides=2,padding='valid'))\n",
        "model.add(layer.Conv2D(128,(3,3),padding='same',activation='relu'))\n",
        "model.add(layer.Conv2D(128,(3,3),padding='same',activation='relu'))\n",
        "model.add(layer.AveragePooling2D(pool_size=(2,2),strides=2,padding='valid'))\n",
        "model.add(layer.Conv2D(256,(3,3),padding='same',activation='relu'))\n",
        "model.add(layer.Conv2D(256,(3,3),padding='same',activation='relu'))\n",
        "model.add(layer.Conv2D(256,(3,3),padding='same',activation='relu'))\n",
        "model.add(layer.AveragePooling2D(pool_size=(2,2),strides=2,padding='valid'))\n",
        "model.add(layer.Conv2D(512,(3,3),padding='same',activation='relu'))\n",
        "model.add(layer.Conv2D(512,(3,3),padding='same',activation='relu'))\n",
        "model.add(layer.Conv2D(512,(3,3),padding='same',activation='relu'))\n",
        "model.add(layer.AveragePooling2D(pool_size=(2,2),strides=2,padding='valid'))\n",
        "model.add(layer.Conv2D(512,(3,3),padding='same',activation='relu'))\n",
        "model.add(layer.Conv2D(512,(3,3),padding='same',activation='relu'))\n",
        "model.add(layer.Conv2D(512,(3,3),padding='same',activation='relu'))\n",
        "model.add(layer.AveragePooling2D(pool_size=(2,2),strides=2,padding='valid'))\n",
        "model.add(layer.Flatten())\n",
        "model.add(layer.Dense(128,activation='relu'))\n",
        "layer.Dropout(0.5)\n",
        "model.add(layer.Dense(64,activation='relu'))\n",
        "layer.Dropout(0.5)\n",
        "model.add(layer.Dense(6,activation='softmax'))\n",
        "model.summary()"
      ]
    },
    {
      "cell_type": "code",
      "execution_count": null,
      "metadata": {
        "id": "o1ezwA898n-1"
      },
      "outputs": [],
      "source": [
        "model.compile(loss='categorical_crossentropy', optimizer='adam',metrics=['accuracy'])"
      ]
    },
    {
      "cell_type": "code",
      "execution_count": null,
      "metadata": {
        "colab": {
          "background_save": true,
          "base_uri": "https://localhost:8080/"
        },
        "id": "Uh2K9K3H9D7H",
        "outputId": "2e3dd926-2edd-4529-f4b9-4669ea08f3a7"
      },
      "outputs": [
        {
          "name": "stdout",
          "output_type": "stream",
          "text": [
            "<class 'keras.preprocessing.image.DirectoryIterator'>\n",
            "Epoch 1/30\n",
            "14/14 [==============================] - 897s 64s/step - loss: 1.7937 - accuracy: 0.1697 - val_loss: 1.7905 - val_accuracy: 0.1927\n",
            "Epoch 2/30\n",
            "14/14 [==============================] - 877s 63s/step - loss: 1.7896 - accuracy: 0.1900 - val_loss: 1.7869 - val_accuracy: 0.1927\n",
            "Epoch 3/30\n",
            "14/14 [==============================] - 871s 62s/step - loss: 1.7884 - accuracy: 0.1900 - val_loss: 1.7834 - val_accuracy: 0.1927\n",
            "Epoch 4/30\n",
            "14/14 [==============================] - 868s 63s/step - loss: 1.7859 - accuracy: 0.1900 - val_loss: 1.7839 - val_accuracy: 0.1927\n",
            "Epoch 5/30\n",
            "14/14 [==============================] - 865s 62s/step - loss: 1.7833 - accuracy: 0.1900 - val_loss: 1.7818 - val_accuracy: 0.1927\n",
            "Epoch 6/30\n",
            "14/14 [==============================] - 862s 62s/step - loss: 1.7831 - accuracy: 0.1900 - val_loss: 1.7817 - val_accuracy: 0.1927\n",
            "Epoch 7/30\n",
            "14/14 [==============================] - 862s 62s/step - loss: 1.7829 - accuracy: 0.1900 - val_loss: 1.7816 - val_accuracy: 0.1927\n",
            "Epoch 8/30\n",
            "14/14 [==============================] - 864s 62s/step - loss: 1.7829 - accuracy: 0.1900 - val_loss: 1.7817 - val_accuracy: 0.1927\n",
            "Epoch 9/30\n",
            "14/14 [==============================] - 861s 62s/step - loss: 1.7824 - accuracy: 0.1900 - val_loss: 1.7815 - val_accuracy: 0.1927\n",
            "Epoch 10/30\n",
            "14/14 [==============================] - 869s 62s/step - loss: 1.7827 - accuracy: 0.1652 - val_loss: 1.7814 - val_accuracy: 0.1927\n",
            "Epoch 11/30\n",
            "14/14 [==============================] - 865s 62s/step - loss: 1.7832 - accuracy: 0.1900 - val_loss: 1.7817 - val_accuracy: 0.1927\n",
            "Epoch 12/30\n",
            "14/14 [==============================] - 861s 63s/step - loss: 1.7828 - accuracy: 0.1697 - val_loss: 1.7818 - val_accuracy: 0.1927\n",
            "Epoch 13/30\n",
            "14/14 [==============================] - 862s 62s/step - loss: 1.7827 - accuracy: 0.1923 - val_loss: 1.7815 - val_accuracy: 0.1927\n",
            "Epoch 14/30\n",
            "14/14 [==============================] - 862s 63s/step - loss: 1.7827 - accuracy: 0.1923 - val_loss: 1.7815 - val_accuracy: 0.1927\n",
            "Epoch 15/30\n",
            "14/14 [==============================] - 865s 62s/step - loss: 1.7825 - accuracy: 0.1923 - val_loss: 1.7814 - val_accuracy: 0.1927\n",
            "Epoch 16/30\n",
            "14/14 [==============================] - 862s 62s/step - loss: 1.7823 - accuracy: 0.1878 - val_loss: 1.7814 - val_accuracy: 0.1927\n",
            "Epoch 17/30\n",
            " 2/14 [===>..........................] - ETA: 11:40 - loss: 1.7713 - accuracy: 0.2031"
          ]
        }
      ],
      "source": [
        "print (type(data_set))\n",
        "history=model.fit(data_set,batch_size=100,epochs=30, validation_data=validation)"
      ]
    },
    {
      "cell_type": "code",
      "execution_count": null,
      "metadata": {
        "id": "j0qlWnQqbf1n"
      },
      "outputs": [],
      "source": [
        "plt.plot(history.history['accuracy'])\n",
        "plt.plot(history.history['val_accuracy'])\n",
        "plt.title('model_accuracy')\n",
        "plt.xlabel('epoch')\n",
        "plt.ylabel('accuracy')\n",
        "plt.legend(['train','validation'],loc='upper left')"
      ]
    },
    {
      "cell_type": "code",
      "execution_count": null,
      "metadata": {
        "id": "2-lXnc6Dk3kI"
      },
      "outputs": [],
      "source": [
        "drive.flush_and_unmount()"
      ]
    }
  ],
  "metadata": {
    "colab": {
      "collapsed_sections": [],
      "name": "VGG16_epoch30.ipynb",
      "provenance": [],
      "authorship_tag": "ABX9TyND9iWlINldCKAgwGMtnHJ7",
      "include_colab_link": true
    },
    "kernelspec": {
      "display_name": "Python 3",
      "name": "python3"
    },
    "language_info": {
      "name": "python"
    }
  },
  "nbformat": 4,
  "nbformat_minor": 0
}